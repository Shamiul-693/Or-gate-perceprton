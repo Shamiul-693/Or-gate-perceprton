{
  "nbformat": 4,
  "nbformat_minor": 0,
  "metadata": {
    "colab": {
      "provenance": []
    },
    "kernelspec": {
      "name": "python3",
      "display_name": "Python 3"
    },
    "language_info": {
      "name": "python"
    }
  },
  "cells": [
    {
      "cell_type": "code",
      "execution_count": 1,
      "metadata": {
        "id": "S-JntNCPv2xV"
      },
      "outputs": [],
      "source": [
        "\n",
        "# importing Python library\n",
        "import numpy as np"
      ]
    },
    {
      "cell_type": "code",
      "source": [
        "# define Unit Step Function\n",
        "def unitStep(v):\n",
        "    if v >= 0:\n",
        "        return 1\n",
        "    else:\n",
        "        return 0"
      ],
      "metadata": {
        "id": "-zJJz1SCv6ia"
      },
      "execution_count": 2,
      "outputs": []
    },
    {
      "cell_type": "code",
      "source": [
        "# design Perceptron Model\n",
        "def perceptronModel(x, w, b):\n",
        "    v = np.dot(w, x) + b\n",
        "    y = unitStep(v)\n",
        "    return y"
      ],
      "metadata": {
        "id": "Wy3aifS9v6k2"
      },
      "execution_count": 3,
      "outputs": []
    },
    {
      "cell_type": "code",
      "source": [
        "# OR Logic Function\n",
        "# w1 = 1, w2 = 1, b = -0.5\n",
        "def OR_logicFunction(x):\n",
        "    w = np.array([1, 1])\n",
        "    b = -0.5\n",
        "    return perceptronModel(x, w, b)"
      ],
      "metadata": {
        "id": "Po2np3Gjv6nc"
      },
      "execution_count": 4,
      "outputs": []
    },
    {
      "cell_type": "code",
      "source": [
        "# testing the Perceptron Model\n",
        "test1 = np.array([0, 0])\n",
        "test2 = np.array([0, 1])\n",
        "test3 = np.array([1, 0])\n",
        "test4 = np.array([1, 1])"
      ],
      "metadata": {
        "id": "aAFXu2Jvv6qf"
      },
      "execution_count": 5,
      "outputs": []
    },
    {
      "cell_type": "code",
      "source": [
        "print(\"OR({}, {}) = {}\".format(0, 0, OR_logicFunction(test1)))\n",
        "print(\"OR({}, {}) = {}\".format(0, 1, OR_logicFunction(test2)))\n",
        "print(\"OR({}, {}) = {}\".format(1, 0, OR_logicFunction(test3)))\n",
        "print(\"OR({}, {}) = {}\".format(1, 1, OR_logicFunction(test4)))"
      ],
      "metadata": {
        "colab": {
          "base_uri": "https://localhost:8080/"
        },
        "id": "VU_ECVf0w4AX",
        "outputId": "47c253d4-ec66-4b75-b953-c7d438aaa2ed"
      },
      "execution_count": 7,
      "outputs": [
        {
          "output_type": "stream",
          "name": "stdout",
          "text": [
            "OR(0, 0) = 0\n",
            "OR(0, 1) = 1\n",
            "OR(1, 0) = 1\n",
            "OR(1, 1) = 1\n"
          ]
        }
      ]
    },
    {
      "cell_type": "markdown",
      "source": [
        "or alternative r akta way dilam"
      ],
      "metadata": {
        "id": "XrrJfzsixJzr"
      }
    },
    {
      "cell_type": "code",
      "source": [
        "import numpy as np\n",
        "\n",
        "\n",
        "\n",
        "\n"
      ],
      "metadata": {
        "id": "hGziWIALxJMG"
      },
      "execution_count": 8,
      "outputs": []
    },
    {
      "cell_type": "code",
      "source": [
        "weight = np.array([1,1])\n",
        "bias = -0.5\n",
        "inputs = np.array([[0, 0], [0, 1], [1, 0], [1, 1]])"
      ],
      "metadata": {
        "id": "AYAEbXPuxT_e"
      },
      "execution_count": 9,
      "outputs": []
    },
    {
      "cell_type": "code",
      "source": [
        "def OR_perceptron(x, weight, bias):\n",
        "    \n",
        "    fx = np.dot(weight, x)  + bias\n",
        "    \n",
        "    if fx >= 0:\n",
        "        return i, 1\n",
        "    else:\n",
        "        return i, 0"
      ],
      "metadata": {
        "id": "WkElqZUbxJOs"
      },
      "execution_count": 10,
      "outputs": []
    },
    {
      "cell_type": "code",
      "source": [
        "\n",
        "for i in inputs:\n",
        "    print(OR_perceptron(i, weight, bias))"
      ],
      "metadata": {
        "colab": {
          "base_uri": "https://localhost:8080/"
        },
        "id": "wnEKr-XFxJRh",
        "outputId": "e3810113-a57b-48a0-820a-1ab83157ec6b"
      },
      "execution_count": 12,
      "outputs": [
        {
          "output_type": "stream",
          "name": "stdout",
          "text": [
            "(array([0, 0]), 0)\n",
            "(array([0, 1]), 1)\n",
            "(array([1, 0]), 1)\n",
            "(array([1, 1]), 1)\n"
          ]
        }
      ]
    },
    {
      "cell_type": "code",
      "source": [],
      "metadata": {
        "id": "P8VWHfCfxJUl"
      },
      "execution_count": 13,
      "outputs": []
    }
  ]
}